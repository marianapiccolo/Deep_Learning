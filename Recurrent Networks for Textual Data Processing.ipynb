{
 "cells": [
  {
   "cell_type": "markdown",
   "id": "034f8527",
   "metadata": {},
   "source": [
    "# Recurrent Networks for Textual Data Processing <br>\n",
    "Loading the necessary packages <br>\n",
    "Loading the data (IMDB dataset)<br>\n",
    "Development of a Vanilla RNN model<br>\n",
    "Development of a Bidirectional LSTM RNN model<br>"
   ]
  },
  {
   "cell_type": "code",
   "execution_count": 51,
   "id": "a88d6bef",
   "metadata": {},
   "outputs": [],
   "source": [
    "import tensorflow as tf\n",
    "from tensorflow import keras\n",
    "from tensorflow.keras.layers import Input\n",
    "from keras import layers\n",
    "from keras.layers import SimpleRNN, Dense, Activation, Embedding, LSTM, Bidirectional\n",
    "from keras.utils import pad_sequences\n",
    "from keras.datasets import imdb\n",
    "\n",
    "import pandas as pd\n",
    "import numpy as np\n",
    "import matplotlib.pyplot as plt\n",
    "from sklearn.metrics import confusion_matrix\n",
    "import seaborn as sns"
   ]
  },
  {
   "cell_type": "markdown",
   "id": "14d6f408",
   "metadata": {},
   "source": [
    "# Loading the data (IMDB)\n",
    "\n",
    "https://www.tensorflow.org/api_docs/python/tf/keras/datasets/imdb/load_data\n",
    "\n",
    "\n",
    "\n",
    "\n"
   ]
  },
  {
   "cell_type": "code",
   "execution_count": 52,
   "id": "a8f3f7d4",
   "metadata": {},
   "outputs": [],
   "source": [
    "(X_train,Y_train), (X_test, Y_test) = imdb.load_data(path = \"imdb.npz\",\n",
    "                                    num_words = None,\n",
    "                                    skip_top = 0,\n",
    "                                    maxlen = None,\n",
    "                                    seed = 113,\n",
    "                                    start_char = 1,\n",
    "                                    oov_char = 2,\n",
    "                                    index_from = 3)"
   ]
  },
  {
   "cell_type": "code",
   "execution_count": 53,
   "id": "d62b68aa",
   "metadata": {},
   "outputs": [
    {
     "name": "stdout",
     "output_type": "stream",
     "text": [
      "X_train:  (25000,)\n",
      "Y_train:  (25000,)\n",
      "X_test:  (25000,)\n",
      "Y_test:  (25000,)\n",
      "Existing classes:  [0 1]\n"
     ]
    }
   ],
   "source": [
    "print(\"X_train: \",X_train.shape)\n",
    "print(\"Y_train: \",Y_train.shape)\n",
    "print(\"X_test: \",X_test.shape)\n",
    "print(\"Y_test: \",Y_test.shape)\n",
    "\n",
    "print(\"Existing classes: \", np.unique(Y_train))"
   ]
  },
  {
   "cell_type": "code",
   "execution_count": 54,
   "id": "84d713ef",
   "metadata": {},
   "outputs": [
    {
     "name": "stdout",
     "output_type": "stream",
     "text": [
      "Class distribution (training):  {0: 12500, 1: 12500}\n"
     ]
    }
   ],
   "source": [
    "unique,  cc = np.unique(Y_train, return_counts = True)\n",
    "print(\"Class distribution (training): \", dict(zip(unique,cc)))"
   ]
  },
  {
   "cell_type": "code",
   "execution_count": 55,
   "id": "0c90ee2f",
   "metadata": {},
   "outputs": [
    {
     "name": "stdout",
     "output_type": "stream",
     "text": [
      "Class distribution (test):  {0: 12500, 1: 12500}\n"
     ]
    }
   ],
   "source": [
    "unique,  cc = np.unique(Y_test, return_counts = True)\n",
    "print(\"Class distribution (test): \", dict(zip(unique,cc)))"
   ]
  },
  {
   "cell_type": "markdown",
   "id": "73b9d3e6",
   "metadata": {},
   "source": [
    "# Examples of Reviews (Sentences)"
   ]
  },
  {
   "cell_type": "code",
   "execution_count": 56,
   "id": "81f02de0",
   "metadata": {},
   "outputs": [
    {
     "name": "stdout",
     "output_type": "stream",
     "text": [
      "Total number of words in the dictionary:  88584\n"
     ]
    }
   ],
   "source": [
    "# obtaining the dictionary (id --> word)\n",
    "dictionary = imdb.get_word_index() \n",
    "num_words = len(dictionary) \n",
    "print(\"Total number of words in the dictionary: \", num_words)"
   ]
  },
  {
   "cell_type": "code",
   "execution_count": 57,
   "id": "a8751a47",
   "metadata": {},
   "outputs": [
    {
     "name": "stdout",
     "output_type": "stream",
     "text": [
      "10 i\n",
      "9 it\n",
      "6 is\n",
      "8 in\n",
      "4 of\n",
      "3 a\n",
      "7 br\n",
      "1 the\n",
      "2 and\n",
      "5 to\n"
     ]
    }
   ],
   "source": [
    "# Some words (10 most frequent)\n",
    "for (word, id) in dictionary.items(): \n",
    "    if id <= 10: print(id, word)"
   ]
  },
  {
   "cell_type": "code",
   "execution_count": 58,
   "id": "ab9db5a7",
   "metadata": {},
   "outputs": [],
   "source": [
    "def Decode(idx = 1):\n",
    "    reverse_index = dict([(id,word) for (word, id) in dictionary.items()])\n",
    "    sentence = \" \".join([reverse_index.get(i - 3, \"!\") for i in X_train[idx]])\n",
    "    return sentence"
   ]
  },
  {
   "cell_type": "code",
   "execution_count": 59,
   "id": "ab053ab0",
   "metadata": {},
   "outputs": [
    {
     "name": "stdout",
     "output_type": "stream",
     "text": [
      "Ids:  [   -2   775   125    71     9   627   160    12     1  1763  7979  1048\n",
      " 43219    29    82   153    42    37   145   136   118   661   662     7\n",
      "     7  1358   170     1   746 86585    13  3801     5     1   223    62\n",
      "     9    40   124    21 15341     7     7]\n",
      "Sentence:  ! begins better than it ends funny that the russian submarine crew outperforms all other actors it's like those scenes where documentary shots br br spoiler part the message dechifered was contrary to the whole story it just does not mesh br br\n",
      "Length:  43\n",
      "Class:  0\n"
     ]
    }
   ],
   "source": [
    "# Example of sentence (ids)\n",
    "idx = 5 \n",
    "sentence = Decode(idx) \n",
    "print(\"Ids: \", np.array(X_train[idx])-3) # subtraction of 3 - initial encoding \n",
    "print(\"Sentence: \", sentence) \n",
    "print(\"Length: \", len(X_train[idx])) \n",
    "print(\"Class: \", Y_train[idx])"
   ]
  },
  {
   "cell_type": "markdown",
   "id": "09e0f012",
   "metadata": {},
   "source": [
    "# Preprocessing\n",
    "Padding, dictionary reduction, and embedding dimension"
   ]
  },
  {
   "cell_type": "code",
   "execution_count": 60,
   "id": "c734d0cd",
   "metadata": {},
   "outputs": [],
   "source": [
    "# Reducing the number of words in the dictionary\n",
    "# to reduce the number of parameters in the model\n",
    "num_words = 5000\n",
    "(X_train, Y_train), (X_test, Y_test) = imdb.load_data(num_words=num_words)\n",
    "\n",
    "maxlen = 100 \n",
    "embedding = 16"
   ]
  },
  {
   "cell_type": "code",
   "execution_count": 61,
   "id": "61feb99d",
   "metadata": {},
   "outputs": [
    {
     "name": "stdout",
     "output_type": "stream",
     "text": [
      "[   0    0    0    0    0    0    0    0    0    0    0    0    0    0\n",
      "    0    0    0    0    0    0    0    0    0    0    0    0    0    0\n",
      "    0    0    0    0    0    0    0    0    0    0    0    0    0    0\n",
      "    0    0    0    0    0    0    0    0    0    0    0    0    0    0\n",
      "    0    1  778  128   74   12  630  163   15    4 1766    2 1051    2\n",
      "   32   85  156   45   40  148  139  121  664  665   10   10 1361  173\n",
      "    4  749    2   16 3804    8    4  226   65   12   43  127   24    2\n",
      "   10   10]\n"
     ]
    }
   ],
   "source": [
    "# Maximum sentence length\n",
    "X_train = pad_sequences(X_train, maxlen=maxlen)\n",
    "X_test = pad_sequences(X_test, maxlen=maxlen)\n",
    "\n",
    "print(X_train[5])\n",
    "decoded_review = Decode(5)\n",
    "\n",
    "# Words outside the dictionary (absent | >num_words)\n",
    "# are replaced by oov_char (2)"
   ]
  },
  {
   "cell_type": "markdown",
   "id": "1b16f3fc",
   "metadata": {},
   "source": [
    "# Model 01: Vanilla RNN"
   ]
  },
  {
   "cell_type": "markdown",
   "id": "7afcddd9",
   "metadata": {},
   "source": [
    "## Model Definition"
   ]
  },
  {
   "cell_type": "code",
   "execution_count": 62,
   "id": "08a61710",
   "metadata": {},
   "outputs": [
    {
     "data": {
      "text/html": [
       "<pre style=\"white-space:pre;overflow-x:auto;line-height:normal;font-family:Menlo,'DejaVu Sans Mono',consolas,'Courier New',monospace\"><span style=\"font-weight: bold\">Model: \"sequential_7\"</span>\n",
       "</pre>\n"
      ],
      "text/plain": [
       "\u001b[1mModel: \"sequential_7\"\u001b[0m\n"
      ]
     },
     "metadata": {},
     "output_type": "display_data"
    },
    {
     "data": {
      "text/html": [
       "<pre style=\"white-space:pre;overflow-x:auto;line-height:normal;font-family:Menlo,'DejaVu Sans Mono',consolas,'Courier New',monospace\">┏━━━━━━━━━━━━━━━━━━━━━━━━━━━━━━━━━━━━━━┳━━━━━━━━━━━━━━━━━━━━━━━━━━━━━┳━━━━━━━━━━━━━━━━━┓\n",
       "┃<span style=\"font-weight: bold\"> Layer (type)                         </span>┃<span style=\"font-weight: bold\"> Output Shape                </span>┃<span style=\"font-weight: bold\">         Param # </span>┃\n",
       "┡━━━━━━━━━━━━━━━━━━━━━━━━━━━━━━━━━━━━━━╇━━━━━━━━━━━━━━━━━━━━━━━━━━━━━╇━━━━━━━━━━━━━━━━━┩\n",
       "│ embedding_6 (<span style=\"color: #0087ff; text-decoration-color: #0087ff\">Embedding</span>)              │ (<span style=\"color: #00d7ff; text-decoration-color: #00d7ff\">None</span>, <span style=\"color: #00af00; text-decoration-color: #00af00\">100</span>, <span style=\"color: #00af00; text-decoration-color: #00af00\">16</span>)             │          <span style=\"color: #00af00; text-decoration-color: #00af00\">80,000</span> │\n",
       "├──────────────────────────────────────┼─────────────────────────────┼─────────────────┤\n",
       "│ simple_rnn_12 (<span style=\"color: #0087ff; text-decoration-color: #0087ff\">SimpleRNN</span>)            │ (<span style=\"color: #00d7ff; text-decoration-color: #00d7ff\">None</span>, <span style=\"color: #00af00; text-decoration-color: #00af00\">100</span>, <span style=\"color: #00af00; text-decoration-color: #00af00\">10</span>)             │             <span style=\"color: #00af00; text-decoration-color: #00af00\">270</span> │\n",
       "├──────────────────────────────────────┼─────────────────────────────┼─────────────────┤\n",
       "│ simple_rnn_13 (<span style=\"color: #0087ff; text-decoration-color: #0087ff\">SimpleRNN</span>)            │ (<span style=\"color: #00d7ff; text-decoration-color: #00d7ff\">None</span>, <span style=\"color: #00af00; text-decoration-color: #00af00\">10</span>)                  │             <span style=\"color: #00af00; text-decoration-color: #00af00\">210</span> │\n",
       "├──────────────────────────────────────┼─────────────────────────────┼─────────────────┤\n",
       "│ dense_6 (<span style=\"color: #0087ff; text-decoration-color: #0087ff\">Dense</span>)                      │ (<span style=\"color: #00d7ff; text-decoration-color: #00d7ff\">None</span>, <span style=\"color: #00af00; text-decoration-color: #00af00\">1</span>)                   │              <span style=\"color: #00af00; text-decoration-color: #00af00\">11</span> │\n",
       "└──────────────────────────────────────┴─────────────────────────────┴─────────────────┘\n",
       "</pre>\n"
      ],
      "text/plain": [
       "┏━━━━━━━━━━━━━━━━━━━━━━━━━━━━━━━━━━━━━━┳━━━━━━━━━━━━━━━━━━━━━━━━━━━━━┳━━━━━━━━━━━━━━━━━┓\n",
       "┃\u001b[1m \u001b[0m\u001b[1mLayer (type)                        \u001b[0m\u001b[1m \u001b[0m┃\u001b[1m \u001b[0m\u001b[1mOutput Shape               \u001b[0m\u001b[1m \u001b[0m┃\u001b[1m \u001b[0m\u001b[1m        Param #\u001b[0m\u001b[1m \u001b[0m┃\n",
       "┡━━━━━━━━━━━━━━━━━━━━━━━━━━━━━━━━━━━━━━╇━━━━━━━━━━━━━━━━━━━━━━━━━━━━━╇━━━━━━━━━━━━━━━━━┩\n",
       "│ embedding_6 (\u001b[38;5;33mEmbedding\u001b[0m)              │ (\u001b[38;5;45mNone\u001b[0m, \u001b[38;5;34m100\u001b[0m, \u001b[38;5;34m16\u001b[0m)             │          \u001b[38;5;34m80,000\u001b[0m │\n",
       "├──────────────────────────────────────┼─────────────────────────────┼─────────────────┤\n",
       "│ simple_rnn_12 (\u001b[38;5;33mSimpleRNN\u001b[0m)            │ (\u001b[38;5;45mNone\u001b[0m, \u001b[38;5;34m100\u001b[0m, \u001b[38;5;34m10\u001b[0m)             │             \u001b[38;5;34m270\u001b[0m │\n",
       "├──────────────────────────────────────┼─────────────────────────────┼─────────────────┤\n",
       "│ simple_rnn_13 (\u001b[38;5;33mSimpleRNN\u001b[0m)            │ (\u001b[38;5;45mNone\u001b[0m, \u001b[38;5;34m10\u001b[0m)                  │             \u001b[38;5;34m210\u001b[0m │\n",
       "├──────────────────────────────────────┼─────────────────────────────┼─────────────────┤\n",
       "│ dense_6 (\u001b[38;5;33mDense\u001b[0m)                      │ (\u001b[38;5;45mNone\u001b[0m, \u001b[38;5;34m1\u001b[0m)                   │              \u001b[38;5;34m11\u001b[0m │\n",
       "└──────────────────────────────────────┴─────────────────────────────┴─────────────────┘\n"
      ]
     },
     "metadata": {},
     "output_type": "display_data"
    },
    {
     "data": {
      "text/html": [
       "<pre style=\"white-space:pre;overflow-x:auto;line-height:normal;font-family:Menlo,'DejaVu Sans Mono',consolas,'Courier New',monospace\"><span style=\"font-weight: bold\"> Total params: </span><span style=\"color: #00af00; text-decoration-color: #00af00\">80,491</span> (314.42 KB)\n",
       "</pre>\n"
      ],
      "text/plain": [
       "\u001b[1m Total params: \u001b[0m\u001b[38;5;34m80,491\u001b[0m (314.42 KB)\n"
      ]
     },
     "metadata": {},
     "output_type": "display_data"
    },
    {
     "data": {
      "text/html": [
       "<pre style=\"white-space:pre;overflow-x:auto;line-height:normal;font-family:Menlo,'DejaVu Sans Mono',consolas,'Courier New',monospace\"><span style=\"font-weight: bold\"> Trainable params: </span><span style=\"color: #00af00; text-decoration-color: #00af00\">80,491</span> (314.42 KB)\n",
       "</pre>\n"
      ],
      "text/plain": [
       "\u001b[1m Trainable params: \u001b[0m\u001b[38;5;34m80,491\u001b[0m (314.42 KB)\n"
      ]
     },
     "metadata": {},
     "output_type": "display_data"
    },
    {
     "data": {
      "text/html": [
       "<pre style=\"white-space:pre;overflow-x:auto;line-height:normal;font-family:Menlo,'DejaVu Sans Mono',consolas,'Courier New',monospace\"><span style=\"font-weight: bold\"> Non-trainable params: </span><span style=\"color: #00af00; text-decoration-color: #00af00\">0</span> (0.00 B)\n",
       "</pre>\n"
      ],
      "text/plain": [
       "\u001b[1m Non-trainable params: \u001b[0m\u001b[38;5;34m0\u001b[0m (0.00 B)\n"
      ]
     },
     "metadata": {},
     "output_type": "display_data"
    }
   ],
   "source": [
    "model01 = keras.Sequential()\n",
    "model01.add(Input(shape=(len(X_train[0]),)))\n",
    "model01.add(Embedding(num_words, embedding, input_length=len(X_train[0])))\n",
    "model01.add(SimpleRNN(10, return_sequences=True))\n",
    "model01.add(SimpleRNN(10, return_sequences=False))\n",
    "model01.add(Dense(1, activation=\"sigmoid\"))\n",
    "\n",
    "# Model Summary\n",
    "model01.summary()"
   ]
  },
  {
   "cell_type": "code",
   "execution_count": 63,
   "id": "f8c65118",
   "metadata": {},
   "outputs": [
    {
     "name": "stdout",
     "output_type": "stream",
     "text": [
      "You must install pydot (`pip install pydot`) for `plot_model` to work.\n"
     ]
    }
   ],
   "source": [
    "tf.keras.utils.plot_model(model01, show_shapes=True)"
   ]
  },
  {
   "cell_type": "markdown",
   "id": "0ce871e2",
   "metadata": {},
   "source": [
    "# Model01 Training"
   ]
  },
  {
   "cell_type": "code",
   "execution_count": 64,
   "id": "31505351",
   "metadata": {},
   "outputs": [
    {
     "name": "stdout",
     "output_type": "stream",
     "text": [
      "Epoch 1/10\n",
      "\u001b[1m176/176\u001b[0m \u001b[32m━━━━━━━━━━━━━━━━━━━━\u001b[0m\u001b[37m\u001b[0m \u001b[1m6s\u001b[0m 22ms/step - accuracy: 0.6604 - loss: 0.6027 - val_accuracy: 0.8096 - val_loss: 0.4331\n",
      "Epoch 2/10\n",
      "\u001b[1m176/176\u001b[0m \u001b[32m━━━━━━━━━━━━━━━━━━━━\u001b[0m\u001b[37m\u001b[0m \u001b[1m4s\u001b[0m 20ms/step - accuracy: 0.8311 - loss: 0.3962 - val_accuracy: 0.8272 - val_loss: 0.3977\n",
      "Epoch 3/10\n",
      "\u001b[1m176/176\u001b[0m \u001b[32m━━━━━━━━━━━━━━━━━━━━\u001b[0m\u001b[37m\u001b[0m \u001b[1m4s\u001b[0m 20ms/step - accuracy: 0.8648 - loss: 0.3330 - val_accuracy: 0.8296 - val_loss: 0.3813\n",
      "Epoch 4/10\n",
      "\u001b[1m176/176\u001b[0m \u001b[32m━━━━━━━━━━━━━━━━━━━━\u001b[0m\u001b[37m\u001b[0m \u001b[1m4s\u001b[0m 20ms/step - accuracy: 0.8916 - loss: 0.2768 - val_accuracy: 0.8324 - val_loss: 0.3924\n",
      "Epoch 5/10\n",
      "\u001b[1m176/176\u001b[0m \u001b[32m━━━━━━━━━━━━━━━━━━━━\u001b[0m\u001b[37m\u001b[0m \u001b[1m4s\u001b[0m 20ms/step - accuracy: 0.9123 - loss: 0.2366 - val_accuracy: 0.8252 - val_loss: 0.4044\n",
      "Epoch 6/10\n",
      "\u001b[1m176/176\u001b[0m \u001b[32m━━━━━━━━━━━━━━━━━━━━\u001b[0m\u001b[37m\u001b[0m \u001b[1m4s\u001b[0m 23ms/step - accuracy: 0.9309 - loss: 0.1947 - val_accuracy: 0.8364 - val_loss: 0.4330\n",
      "Epoch 7/10\n",
      "\u001b[1m176/176\u001b[0m \u001b[32m━━━━━━━━━━━━━━━━━━━━\u001b[0m\u001b[37m\u001b[0m \u001b[1m4s\u001b[0m 21ms/step - accuracy: 0.9479 - loss: 0.1533 - val_accuracy: 0.8344 - val_loss: 0.4711\n",
      "Epoch 8/10\n",
      "\u001b[1m176/176\u001b[0m \u001b[32m━━━━━━━━━━━━━━━━━━━━\u001b[0m\u001b[37m\u001b[0m \u001b[1m4s\u001b[0m 21ms/step - accuracy: 0.9624 - loss: 0.1143 - val_accuracy: 0.8176 - val_loss: 0.5232\n",
      "Epoch 9/10\n",
      "\u001b[1m176/176\u001b[0m \u001b[32m━━━━━━━━━━━━━━━━━━━━\u001b[0m\u001b[37m\u001b[0m \u001b[1m4s\u001b[0m 23ms/step - accuracy: 0.9730 - loss: 0.0883 - val_accuracy: 0.7936 - val_loss: 0.6349\n",
      "Epoch 10/10\n",
      "\u001b[1m176/176\u001b[0m \u001b[32m━━━━━━━━━━━━━━━━━━━━\u001b[0m\u001b[37m\u001b[0m \u001b[1m4s\u001b[0m 22ms/step - accuracy: 0.9777 - loss: 0.0720 - val_accuracy: 0.8100 - val_loss: 0.6236\n"
     ]
    }
   ],
   "source": [
    "model01.compile(loss=\"binary_crossentropy\", optimizer=\"rmsprop\", metrics=[\"accuracy\"])\n",
    "history = model01.fit(X_train, Y_train, validation_split=0.1, epochs=10, batch_size=128, verbose=1)"
   ]
  },
  {
   "cell_type": "markdown",
   "id": "ccfe80db",
   "metadata": {},
   "source": [
    "# Evaluation"
   ]
  },
  {
   "cell_type": "code",
   "execution_count": 65,
   "id": "48cbcf81",
   "metadata": {},
   "outputs": [
    {
     "data": {
      "image/png": "[encoded data removed]",
      "text/plain": [
       "<Figure size 432x288 with 1 Axes>"
      ]
     },
     "metadata": {
      "needs_background": "light"
     },
     "output_type": "display_data"
    }
   ],
   "source": [
    "plt.figure()\n",
    "plt.plot(history.history[\"loss\"], label=\"Training\")\n",
    "plt.plot(history.history[\"val_loss\"], label=\"Validation\")\n",
    "plt.title(\"Loss Function\")\n",
    "plt.ylabel(\"Loss\")\n",
    "plt.xlabel(\"Epochs\")\n",
    "plt.legend()\n",
    "plt.show()"
   ]
  },
  {
   "cell_type": "code",
   "execution_count": 66,
   "id": "72e7e1a2",
   "metadata": {},
   "outputs": [
    {
     "data": {
      "image/png": "[encoded data removed]",
      "text/plain": [
       "<Figure size 432x288 with 1 Axes>"
      ]
     },
     "metadata": {
      "needs_background": "light"
     },
     "output_type": "display_data"
    }
   ],
   "source": [
    "plt.figure()\n",
    "plt.plot(history.history[\"accuracy\"], label=\"Training\")\n",
    "plt.plot(history.history[\"val_accuracy\"], label=\"Validation\")\n",
    "plt.title(\"Accuracy\")\n",
    "plt.ylabel(\"Accuracy\")\n",
    "plt.xlabel(\"Epochs\")\n",
    "plt.legend()\n",
    "plt.show()"
   ]
  },
  {
   "cell_type": "markdown",
   "id": "0f575421",
   "metadata": {},
   "source": [
    "# Accuracy on the test set"
   ]
  },
  {
   "cell_type": "code",
   "execution_count": 67,
   "id": "50d4286b",
   "metadata": {},
   "outputs": [
    {
     "name": "stdout",
     "output_type": "stream",
     "text": [
      "\u001b[1m782/782\u001b[0m \u001b[32m━━━━━━━━━━━━━━━━━━━━\u001b[0m\u001b[37m\u001b[0m \u001b[1m5s\u001b[0m 6ms/step - accuracy: 0.8117 - loss: 0.6055\n",
      "Final Accuracy: % 81.5119981765747\n"
     ]
    }
   ],
   "source": [
    "score = model01.evaluate(X_test, Y_test)\n",
    "print(\"Final Accuracy: %\", score[1]*100)"
   ]
  },
  {
   "cell_type": "markdown",
   "id": "1c72ec19",
   "metadata": {},
   "source": [
    "# Confusion Matrix"
   ]
  },
  {
   "cell_type": "code",
   "execution_count": 68,
   "id": "89df971a",
   "metadata": {},
   "outputs": [
    {
     "name": "stdout",
     "output_type": "stream",
     "text": [
      "\u001b[1m782/782\u001b[0m \u001b[32m━━━━━━━━━━━━━━━━━━━━\u001b[0m\u001b[37m\u001b[0m \u001b[1m4s\u001b[0m 5ms/step\n"
     ]
    },
    {
     "data": {
      "image/png": "[encoded data removed]",
      "text/plain": [
       "<Figure size 360x360 with 2 Axes>"
      ]
     },
     "metadata": {
      "needs_background": "light"
     },
     "output_type": "display_data"
    },
    {
     "name": "stdout",
     "output_type": "stream",
     "text": [
      "True Positive: 10132\n",
      "True Negative: 10246\n",
      "False Positive: 2368\n",
      "False Negative: 2254\n"
     ]
    }
   ],
   "source": [
    "y_pred = model01.predict(X_test)\n",
    "y_pred = (y_pred > 0.5)\n",
    "\n",
    "cm = confusion_matrix(Y_test, y_pred)\n",
    "df1 = pd.DataFrame(columns=[\"True\", \"False\"], index=[\"True\", \"False\"], data=cm)\n",
    "\n",
    "f, ax = plt.subplots(figsize=(5,5))\n",
    "sns.heatmap(df1, annot=True, cmap=\"Blues\", fmt='.0f', ax=ax)\n",
    "plt.xlabel(\"Predicted Class\")\n",
    "plt.xticks(size=12)\n",
    "plt.yticks(size=12, rotation=0)\n",
    "plt.ylabel(\"Actual Class\")\n",
    "plt.title(\"Confusion Matrix\", size=14)\n",
    "plt.show()\n",
    "\n",
    "print(\"True Positive:\", cm[0, 0])\n",
    "print(\"True Negative:\", cm[1, 1])\n",
    "print(\"False Positive:\", cm[0, 1])\n",
    "print(\"False Negative:\", cm[1, 0])"
   ]
  }
 ],
 "metadata": {
  "kernelspec": {
   "display_name": "Python 3 (ipykernel)",
   "language": "python",
   "name": "python3"
  },
  "language_info": {
   "codemirror_mode": {
    "name": "ipython",
    "version": 3
   },
   "file_extension": ".py",
   "mimetype": "text/x-python",
   "name": "python",
   "nbconvert_exporter": "python",
   "pygments_lexer": "ipython3",
   "version": "3.9.12"
  }
 },
 "nbformat": 4,
 "nbformat_minor": 5
}
