{
 "cells": [
  {
   "cell_type": "markdown",
   "id": "034f8527",
   "metadata": {},
   "source": [
    "# Recurrent Networks for Textual Data Processing <br>\n",
    "Loading the necessary packages <br>\n",
    "Loading the data (IMDB dataset)<br>\n",
    "Development of a Vanilla RNN model<br>\n",
    "Development of a Bidirectional LSTM RNN model<br>"
   ]
  },
  {
   "cell_type": "code",
   "execution_count": 2,
   "id": "a88d6bef",
   "metadata": {},
   "outputs": [],
   "source": [
    "import tensorflow as tf\n",
    "from tensorflow import keras\n",
    "from keras import layers\n",
    "from keras.layers import SimpleRNN, Dense, Activation, Embedding, LSTM, Bidirectional\n",
    "from keras.utils import pad_sequences\n",
    "from keras.datasets import imdb\n",
    "\n",
    "import pandas as pd\n",
    "import numpy as np\n",
    "import matplotlib.pyplot as plt\n",
    "from sklearn.metrics import confusion_matrix\n",
    "import seaborn as sns"
   ]
  },
  {
   "cell_type": "markdown",
   "id": "14d6f408",
   "metadata": {},
   "source": [
    "# Loading the data (IMDB)\n",
    "\n",
    "https://www.tensorflow.org/api_docs/python/tf/keras/datasets/imdb/load_data\n",
    "\n",
    "\n",
    "\n",
    "\n"
   ]
  },
  {
   "cell_type": "code",
   "execution_count": 3,
   "id": "a8f3f7d4",
   "metadata": {},
   "outputs": [],
   "source": [
    "(X_train,Y_train), (X_test, Y_test) = imdb.load_data(path = \"imdb.npz\",\n",
    "                                    num_words = None,\n",
    "                                    skip_top = 0,\n",
    "                                    maxlen = None,\n",
    "                                    seed = 113,\n",
    "                                    start_char = 1,\n",
    "                                    oov_char = 2,\n",
    "                                    index_from = 3)"
   ]
  },
  {
   "cell_type": "code",
   "execution_count": 4,
   "id": "d62b68aa",
   "metadata": {},
   "outputs": [
    {
     "name": "stdout",
     "output_type": "stream",
     "text": [
      "X_train:  (25000,)\n",
      "Y_train:  (25000,)\n",
      "X_test:  (25000,)\n",
      "Y_test:  (25000,)\n",
      "Existing classes:  [0 1]\n"
     ]
    }
   ],
   "source": [
    "print(\"X_train: \",X_train.shape)\n",
    "print(\"Y_train: \",Y_train.shape)\n",
    "print(\"X_test: \",X_test.shape)\n",
    "print(\"Y_test: \",Y_test.shape)\n",
    "\n",
    "print(\"Existing classes: \", np.unique(Y_train))"
   ]
  },
  {
   "cell_type": "code",
   "execution_count": 5,
   "id": "84d713ef",
   "metadata": {},
   "outputs": [
    {
     "name": "stdout",
     "output_type": "stream",
     "text": [
      "Class distribution (training):  {0: 12500, 1: 12500}\n"
     ]
    }
   ],
   "source": [
    "unique,  cc = np.unique(Y_train, return_counts = True)\n",
    "print(\"Class distribution (training): \", dict(zip(unique,cc)))"
   ]
  },
  {
   "cell_type": "code",
   "execution_count": 6,
   "id": "0c90ee2f",
   "metadata": {},
   "outputs": [
    {
     "name": "stdout",
     "output_type": "stream",
     "text": [
      "Class distribution (test):  {0: 12500, 1: 12500}\n"
     ]
    }
   ],
   "source": [
    "unique,  cc = np.unique(Y_test, return_counts = True)\n",
    "print(\"Class distribution (test): \", dict(zip(unique,cc)))"
   ]
  },
  {
   "cell_type": "markdown",
   "id": "f5d64109",
   "metadata": {},
   "source": [
    "# Examples of Reviews (Sentences)"
   ]
  },
  {
   "cell_type": "code",
   "execution_count": 7,
   "id": "f8c02b77",
   "metadata": {},
   "outputs": [
    {
     "ename": "SyntaxError",
     "evalue": "invalid syntax (2761125037.py, line 2)",
     "output_type": "error",
     "traceback": [
      "\u001b[1;36m  Input \u001b[1;32mIn [7]\u001b[1;36m\u001b[0m\n\u001b[1;33m    dictionary = imdb.get_word_index() num_words = len(dictionary)\u001b[0m\n\u001b[1;37m                                       ^\u001b[0m\n\u001b[1;31mSyntaxError\u001b[0m\u001b[1;31m:\u001b[0m invalid syntax\n"
     ]
    }
   ],
   "source": [
    "# obtaining the dictionary (id --> word)\n",
    "dictionary = imdb.get_word_index() num_words = len(dictionary) \n",
    "print(\"Total number of words in the dictionary: \", num_words)"
   ]
  },
  {
   "cell_type": "code",
   "execution_count": null,
   "id": "08f67be6",
   "metadata": {},
   "outputs": [],
   "source": [
    "# Some words (10 most frequent)\n",
    "for (word, id) in dictionary.items(): if id <= 10: print(id, word)"
   ]
  },
  {
   "cell_type": "code",
   "execution_count": null,
   "id": "64ae6cb2",
   "metadata": {},
   "outputs": [],
   "source": [
    "def Decode(idx = 1):\n",
    "    reverse_index = dict([(id,word) for (word, id) in dictionary.items()])\n",
    "    sentence = \" \".join([reverse_index.get(i - 3, \"!\") for i in X_train[idx]])\n",
    "    return sentence"
   ]
  },
  {
   "cell_type": "code",
   "execution_count": null,
   "id": "3b805be6",
   "metadata": {},
   "outputs": [],
   "source": [
    "# Example of sentence (ids)\n",
    "idx = 5 \n",
    "sentence = Decode(idx) \n",
    "print(\"Ids: \", np.array(X_train[idx])-3) # subtraction of 3 - initial encoding \n",
    "print(\"Sentence: \", sentence) \n",
    "print(\"Length: \", len(X_train[idx])) \n",
    "print(\"Class: \", Y_train[idx])"
   ]
  }
 ],
 "metadata": {
  "kernelspec": {
   "display_name": "Python 3 (ipykernel)",
   "language": "python",
   "name": "python3"
  },
  "language_info": {
   "codemirror_mode": {
    "name": "ipython",
    "version": 3
   },
   "file_extension": ".py",
   "mimetype": "text/x-python",
   "name": "python",
   "nbconvert_exporter": "python",
   "pygments_lexer": "ipython3",
   "version": "3.9.12"
  }
 },
 "nbformat": 4,
 "nbformat_minor": 5
}
